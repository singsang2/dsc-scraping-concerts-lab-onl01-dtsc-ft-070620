{
 "cells": [
  {
   "cell_type": "markdown",
   "metadata": {},
   "source": [
    "# Scraping Concerts - Lab\n",
    "\n",
    "## Introduction\n",
    "\n",
    "Now that you've seen how to scrape a simple website, it's time to again practice those skills on a full-fledged site!\n",
    "In this lab, you'll practice your scraping skills on a music website: https://www.residentadvisor.net.\n",
    "## Objectives\n",
    "\n",
    "You will be able to:\n",
    "* Create a full scraping pipeline that involves traversing over many pages of a website, dealing with errors and storing data"
   ]
  },
  {
   "cell_type": "markdown",
   "metadata": {},
   "source": [
    "## View the Website\n",
    "\n",
    "For this lab, you'll be scraping the https://www.residentadvisor.net website. Start by navigating to the events page [here](https://www.residentadvisor.net/events) in your browser.\n",
    "\n",
    "<img src=\"images/ra.png\">"
   ]
  },
  {
   "cell_type": "code",
   "execution_count": 14,
   "metadata": {
    "ExecuteTime": {
     "end_time": "2020-07-23T16:51:50.574792Z",
     "start_time": "2020-07-23T16:51:49.770633Z"
    }
   },
   "outputs": [],
   "source": [
    "# Load the https://www.residentadvisor.net/events page in your browser.\n",
    "from bs4 import BeautifulSoup\n",
    "import requests\n",
    "\n",
    "html_page = requests.get('https://www.residentadvisor.net/events/us/georgia/month/2019-08-23') #no events nowadays due to Covid-19\n",
    "soup = BeautifulSoup(html_page.content, 'html.parser')\n"
   ]
  },
  {
   "cell_type": "markdown",
   "metadata": {},
   "source": [
    "## Open the Inspect Element Feature\n",
    "\n",
    "Next, open the inspect element feature from your web browser in order to preview the underlying HTML associated with the page."
   ]
  },
  {
   "cell_type": "code",
   "execution_count": 44,
   "metadata": {
    "ExecuteTime": {
     "end_time": "2020-07-23T17:08:44.462618Z",
     "start_time": "2020-07-23T17:08:44.444726Z"
    }
   },
   "outputs": [],
   "source": [
    "# Open the inspect element feature in your browser\n",
    "events = soup.findAll('h1', {'class': 'event-title'})\n",
    "url = events[0].find('a').attrs['href']\n",
    "\n",
    "\n",
    "main = 'https://www.residentadvisor.net'"
   ]
  },
  {
   "cell_type": "code",
   "execution_count": null,
   "metadata": {},
   "outputs": [],
   "source": []
  },
  {
   "cell_type": "code",
   "execution_count": 42,
   "metadata": {
    "ExecuteTime": {
     "end_time": "2020-07-23T17:03:44.031170Z",
     "start_time": "2020-07-23T17:03:43.221193Z"
    }
   },
   "outputs": [
    {
     "name": "stdout",
     "output_type": "stream",
     "text": [
      "9 Ravine,  1021 Peachtree St NE, Atlanta, GA 30309 23 Aug 2019 Bonobo (DJ Set) & Matthew Dear (DJ Set)\n"
     ]
    }
   ],
   "source": [
    "# requests into event page\n",
    "event_page = requests.get(main+url)\n",
    "event_soup = BeautifulSoup(event_page.content, 'html.parser')\n",
    "\n",
    "Event_Name = event_soup.find('div', {'id': 'breadcrumb', 'class': 'clearfix'}).nextSibling.nextSibling.text\n",
    "Number_of_attendees = int(event_soup.find('h1',{'id':'MembersFavouriteCount'}).text.strip())\n",
    "Venue = event_soup.findAll('a', {'class': 'cat-rev'})[1].text + ', ' + event_soup.findAll('a', {'class': 'cat-rev'})[1].nextSibling.nextSibling\n",
    "Event_Date = event_soup.findAll('a', {'class': 'cat-rev'})[0].text\n",
    "\n",
    "print(Number_of_attendees, Venue, Event_Date, Event_Name)\n"
   ]
  },
  {
   "cell_type": "code",
   "execution_count": 41,
   "metadata": {
    "ExecuteTime": {
     "end_time": "2020-07-23T17:03:28.577869Z",
     "start_time": "2020-07-23T17:03:28.571232Z"
    }
   },
   "outputs": [
    {
     "data": {
      "text/plain": [
       "'Bonobo (DJ Set) & Matthew Dear (DJ Set)'"
      ]
     },
     "execution_count": 41,
     "metadata": {},
     "output_type": "execute_result"
    }
   ],
   "source": [
    "event_soup.find('div', {'id': 'breadcrumb', 'class': 'clearfix'}).nextSibling.nextSibling.text"
   ]
  },
  {
   "cell_type": "code",
   "execution_count": 10,
   "metadata": {},
   "outputs": [
    {
     "data": {
      "text/plain": [
       "'Event details of Bonobo (DJ Set) & Matthew Dear (DJ Set)'"
      ]
     },
     "execution_count": 10,
     "metadata": {},
     "output_type": "execute_result"
    }
   ],
   "source": [
    "events[0].find('a').attrs['title']"
   ]
  },
  {
   "cell_type": "markdown",
   "metadata": {},
   "source": [
    "## Write a Function to Scrape all of the Events on the Given Page Events Page\n",
    "\n",
    "The function should return a Pandas DataFrame with columns for the Event_Name, Venue, Event_Date and Number_of_Attendees."
   ]
  },
  {
   "cell_type": "code",
   "execution_count": 154,
   "metadata": {
    "ExecuteTime": {
     "end_time": "2020-07-23T18:20:18.642143Z",
     "start_time": "2020-07-23T18:20:12.503936Z"
    }
   },
   "outputs": [],
   "source": [
    "\n",
    "# Open the inspect element feature in your browser\n",
    "main = 'https://www.residentadvisor.net/events/1303824'\n",
    "event_page = requests.get(main)\n",
    "event_soup = BeautifulSoup(event_page.content, 'html.parser')\n",
    "\n",
    "name = event_soup.find('div', {'id': 'breadcrumb', 'class': 'clearfix'}).nextSibling.nextSibling.text\n",
    "attendees = int(event_soup.find('h1',{'id':'MembersFavouriteCount'}).text.strip())\n"
   ]
  },
  {
   "cell_type": "code",
   "execution_count": 155,
   "metadata": {
    "ExecuteTime": {
     "end_time": "2020-07-23T18:20:18.902538Z",
     "start_time": "2020-07-23T18:20:18.867834Z"
    }
   },
   "outputs": [],
   "source": [
    "event_soup.find('ul', {'class': 'clearfix'}).findAll('div')[0].text.split()[0]\n",
    "items = event_soup.find('ul', {'class': 'clearfix'})"
   ]
  },
  {
   "cell_type": "code",
   "execution_count": 174,
   "metadata": {
    "ExecuteTime": {
     "end_time": "2020-07-23T18:23:13.961769Z",
     "start_time": "2020-07-23T18:23:13.953796Z"
    }
   },
   "outputs": [
    {
     "data": {
      "text/plain": [
       "'Date /Sat, 14 Sep 2019  - Sun, 15 Sep 201918:00 - 18:00'"
      ]
     },
     "execution_count": 174,
     "metadata": {},
     "output_type": "execute_result"
    }
   ],
   "source": [
    "items.findAll('li', {'class':'wide'})[0].text\n"
   ]
  },
  {
   "cell_type": "code",
   "execution_count": 197,
   "metadata": {
    "ExecuteTime": {
     "end_time": "2020-07-23T18:34:34.636531Z",
     "start_time": "2020-07-23T18:34:34.623064Z"
    }
   },
   "outputs": [
    {
     "ename": "AttributeError",
     "evalue": "ResultSet object has no attribute 'find'. You're probably treating a list of items like a single item. Did you call find_all() when you meant to call find()?",
     "output_type": "error",
     "traceback": [
      "\u001b[0;31m---------------------------------------------------------------------------\u001b[0m",
      "\u001b[0;31mAttributeError\u001b[0m                            Traceback (most recent call last)",
      "\u001b[0;32m<ipython-input-197-d34070d58672>\u001b[0m in \u001b[0;36m<module>\u001b[0;34m\u001b[0m\n\u001b[1;32m      1\u001b[0m \u001b[0mitems\u001b[0m \u001b[0;34m=\u001b[0m \u001b[0mevent_soup\u001b[0m\u001b[0;34m.\u001b[0m\u001b[0mfind\u001b[0m\u001b[0;34m(\u001b[0m\u001b[0;34m'ul'\u001b[0m\u001b[0;34m,\u001b[0m \u001b[0;34m{\u001b[0m\u001b[0;34m'class'\u001b[0m\u001b[0;34m:\u001b[0m \u001b[0;34m'clearfix'\u001b[0m\u001b[0;34m}\u001b[0m\u001b[0;34m)\u001b[0m\u001b[0;34m\u001b[0m\u001b[0;34m\u001b[0m\u001b[0m\n\u001b[0;32m----> 2\u001b[0;31m \u001b[0mitems\u001b[0m\u001b[0;34m.\u001b[0m\u001b[0mfindAll\u001b[0m\u001b[0;34m(\u001b[0m\u001b[0;34m'li'\u001b[0m\u001b[0;34m)\u001b[0m\u001b[0;34m.\u001b[0m\u001b[0mfind\u001b[0m\u001b[0;34m(\u001b[0m\u001b[0;34m'/div'\u001b[0m\u001b[0;34m)\u001b[0m\u001b[0;34m\u001b[0m\u001b[0;34m\u001b[0m\u001b[0m\n\u001b[0m\u001b[1;32m      3\u001b[0m \u001b[0;34m\u001b[0m\u001b[0m\n\u001b[1;32m      4\u001b[0m \u001b[0;31m# items[0].nextSibling.nextSibling.nextSibling\u001b[0m\u001b[0;34m\u001b[0m\u001b[0;34m\u001b[0m\u001b[0;34m\u001b[0m\u001b[0m\n\u001b[1;32m      5\u001b[0m \u001b[0;31m# items[1].nextSibling\u001b[0m\u001b[0;34m\u001b[0m\u001b[0;34m\u001b[0m\u001b[0;34m\u001b[0m\u001b[0m\n",
      "\u001b[0;32m~/opt/anaconda3/envs/learn-env/lib/python3.6/site-packages/bs4/element.py\u001b[0m in \u001b[0;36m__getattr__\u001b[0;34m(self, key)\u001b[0m\n\u001b[1;32m   1576\u001b[0m     \u001b[0;32mdef\u001b[0m \u001b[0m__getattr__\u001b[0m\u001b[0;34m(\u001b[0m\u001b[0mself\u001b[0m\u001b[0;34m,\u001b[0m \u001b[0mkey\u001b[0m\u001b[0;34m)\u001b[0m\u001b[0;34m:\u001b[0m\u001b[0;34m\u001b[0m\u001b[0;34m\u001b[0m\u001b[0m\n\u001b[1;32m   1577\u001b[0m         raise AttributeError(\n\u001b[0;32m-> 1578\u001b[0;31m             \u001b[0;34m\"ResultSet object has no attribute '%s'. You're probably treating a list of items like a single item. Did you call find_all() when you meant to call find()?\"\u001b[0m \u001b[0;34m%\u001b[0m \u001b[0mkey\u001b[0m\u001b[0;34m\u001b[0m\u001b[0;34m\u001b[0m\u001b[0m\n\u001b[0m\u001b[1;32m   1579\u001b[0m         )\n",
      "\u001b[0;31mAttributeError\u001b[0m: ResultSet object has no attribute 'find'. You're probably treating a list of items like a single item. Did you call find_all() when you meant to call find()?"
     ]
    }
   ],
   "source": [
    "items = event_soup.find('ul', {'class': 'clearfix'})\n",
    "items.findAll('li').find('/div')\n",
    "\n",
    "# items[0].nextSibling.nextSibling.nextSibling\n",
    "# items[1].nextSibling\n",
    "# list_items = [item.nextsibling for item in items[0:2]]\n",
    "# list_items"
   ]
  },
  {
   "cell_type": "code",
   "execution_count": 246,
   "metadata": {
    "ExecuteTime": {
     "end_time": "2020-07-23T19:05:48.225729Z",
     "start_time": "2020-07-23T19:05:48.215440Z"
    }
   },
   "outputs": [],
   "source": [
    "def scrape_events(events_page_url):\n",
    "    # Open the inspect element feature in your browser\n",
    "    main = 'https://www.residentadvisor.net'\n",
    "    html_page = requests.get(events_page_url) #no events nowadays due to Covid-19\n",
    "    soup = BeautifulSoup(html_page.content, 'html.parser')\n",
    "    events = soup.findAll('h1', {'class': 'event-title'}) # Scrapes all the events from given page\n",
    "    \n",
    "    # initialize data\n",
    "    names = []\n",
    "    attendees = []\n",
    "    venues = []\n",
    "    addresses = []\n",
    "    dates = []\n",
    "    \n",
    "    for event in events:\n",
    "        url = event.find('a').attrs['href']\n",
    "        event_page = requests.get(main+url)\n",
    "        event_soup = BeautifulSoup(event_page.content, 'html.parser')\n",
    "        \n",
    "        try:\n",
    "            name = event_soup.find('div', {'id': 'breadcrumb', 'class': 'clearfix'}).nextSibling.nextSibling.text\n",
    "            attendee = int(event_soup.find('h1',{'id':'MembersFavouriteCount'}).text.strip())\n",
    "            items = event_soup.find('ul', {'class': 'clearfix'}).findAll('div')\n",
    "            date = event_soup.find('ul', {'class': 'clearfix'}).find('a').text\n",
    "            venue = items[1].nextSibling\n",
    "            address = items[1].nextSibling.nextSibling.nextSibling\n",
    "#             venue = event_soup.findAll('a', {'class': 'cat-rev'})[1].text + ', ' + event_soup.findAll('a', {'class': 'cat-rev'})[1].nextSibling.nextSibling\n",
    "#             date = event_soup.findAll('a', {'class': 'cat-rev'})[0].text\n",
    "        except Exception as e:\n",
    "            print(name, date, venue, address, e)\n",
    "            break\n",
    "        names.append(name)\n",
    "        attendees.append(attendee)\n",
    "        venues.append(venue)\n",
    "        addresses.append(address)\n",
    "        dates.append(date)\n",
    "        \n",
    "    df = pd.DataFrame([names, venues, addresses, dates, attendees]).transpose()\n",
    "\n",
    "    df.columns = [\"Event_Name\", \"Venue\", \"Addresses\", \"Event_Date\", \"Number_of_Attendees\"]\n",
    "    return df\n"
   ]
  },
  {
   "cell_type": "code",
   "execution_count": 199,
   "metadata": {
    "ExecuteTime": {
     "end_time": "2020-07-23T18:36:04.402487Z",
     "start_time": "2020-07-23T18:34:44.144775Z"
    }
   },
   "outputs": [
    {
     "data": {
      "text/html": [
       "<div>\n",
       "<style scoped>\n",
       "    .dataframe tbody tr th:only-of-type {\n",
       "        vertical-align: middle;\n",
       "    }\n",
       "\n",
       "    .dataframe tbody tr th {\n",
       "        vertical-align: top;\n",
       "    }\n",
       "\n",
       "    .dataframe thead th {\n",
       "        text-align: right;\n",
       "    }\n",
       "</style>\n",
       "<table border=\"1\" class=\"dataframe\">\n",
       "  <thead>\n",
       "    <tr style=\"text-align: right;\">\n",
       "      <th></th>\n",
       "      <th>Event_Name</th>\n",
       "      <th>Venue</th>\n",
       "      <th>Addresses</th>\n",
       "      <th>Event_Date</th>\n",
       "      <th>Number_of_Attendees</th>\n",
       "    </tr>\n",
       "  </thead>\n",
       "  <tbody>\n",
       "    <tr>\n",
       "      <th>0</th>\n",
       "      <td>Bonobo (DJ Set) &amp; Matthew Dear (DJ Set)</td>\n",
       "      <td>[Ravine]</td>\n",
       "      <td>1021 Peachtree St NE, Atlanta, GA 30309</td>\n",
       "      <td>23 Aug 2019</td>\n",
       "      <td>9</td>\n",
       "    </tr>\n",
       "    <tr>\n",
       "      <th>1</th>\n",
       "      <td>The Field, Anticipation, Soft Talk</td>\n",
       "      <td>[Drunken Unicorn]</td>\n",
       "      <td>736 Ponce De Leon, Place Northeast; Atlanta, ...</td>\n",
       "      <td>23 Aug 2019</td>\n",
       "      <td>2</td>\n",
       "    </tr>\n",
       "    <tr>\n",
       "      <th>2</th>\n",
       "      <td>Official [Rooftop] Pre-Party: Zemya Fest 2019</td>\n",
       "      <td>[The Rooftop]</td>\n",
       "      <td>421 Edgewood Ave. Atlanta GA 30312 USA</td>\n",
       "      <td>24 Aug 2019</td>\n",
       "      <td>48</td>\n",
       "    </tr>\n",
       "    <tr>\n",
       "      <th>3</th>\n",
       "      <td>Felix Jaehn</td>\n",
       "      <td>[Ravine]</td>\n",
       "      <td>1021 Peachtree St NE, Atlanta, GA 30309</td>\n",
       "      <td>24 Aug 2019</td>\n",
       "      <td>0</td>\n",
       "    </tr>\n",
       "    <tr>\n",
       "      <th>4</th>\n",
       "      <td>A Night with Ron Trent</td>\n",
       "      <td>[Crazy Atlanta]</td>\n",
       "      <td>182 Courtland St NE Atlanta, GA 30303 United ...</td>\n",
       "      <td>30 Aug 2019</td>\n",
       "      <td>8</td>\n",
       "    </tr>\n",
       "    <tr>\n",
       "      <th>5</th>\n",
       "      <td>Distinctive Welcomes Brett Dancer</td>\n",
       "      <td>[The Sound Table]</td>\n",
       "      <td>483 Edgewood Avenue SE; Atlanta, GA 30312; Un...</td>\n",
       "      <td>30 Aug 2019</td>\n",
       "      <td>2</td>\n",
       "    </tr>\n",
       "    <tr>\n",
       "      <th>6</th>\n",
       "      <td>Laura Indorf and Corey Jackson</td>\n",
       "      <td>[Midcity Cafe]</td>\n",
       "      <td>850 W Peachtree St NW, Atlanta, Georgia 30308</td>\n",
       "      <td>30 Aug 2019</td>\n",
       "      <td>0</td>\n",
       "    </tr>\n",
       "    <tr>\n",
       "      <th>7</th>\n",
       "      <td>People of Earth 4 Year Anniversary feat. Alton...</td>\n",
       "      <td>Pal's Lounge</td>\n",
       "      <td>254 Auburn Ave NE, Atlanta, GA 30303</td>\n",
       "      <td>31 Aug 2019</td>\n",
       "      <td>18</td>\n",
       "    </tr>\n",
       "    <tr>\n",
       "      <th>8</th>\n",
       "      <td>The Summit 2019</td>\n",
       "      <td>[Murmur Gallery]</td>\n",
       "      <td>100 Broad St SW</td>\n",
       "      <td>31 Aug 2019</td>\n",
       "      <td>7</td>\n",
       "    </tr>\n",
       "    <tr>\n",
       "      <th>9</th>\n",
       "      <td>Crazy Con: Dragon Con Afterparty</td>\n",
       "      <td>[Crazy Atlanta]</td>\n",
       "      <td>182 Courtland St NE Atlanta, GA 30303 United ...</td>\n",
       "      <td>31 Aug 2019</td>\n",
       "      <td>4</td>\n",
       "    </tr>\n",
       "    <tr>\n",
       "      <th>10</th>\n",
       "      <td>Expressions: The ATL Weekender Edition</td>\n",
       "      <td>[The Sound Table]</td>\n",
       "      <td>483 Edgewood Avenue SE; Atlanta, GA 30312; Un...</td>\n",
       "      <td>31 Aug 2019</td>\n",
       "      <td>4</td>\n",
       "    </tr>\n",
       "    <tr>\n",
       "      <th>11</th>\n",
       "      <td>House In The Park 15 “Official” After Party</td>\n",
       "      <td>[The Basement]</td>\n",
       "      <td>1245 Glenwood Ave, Atlanta, GA 30316, USA</td>\n",
       "      <td>1 Sep 2019</td>\n",
       "      <td>3</td>\n",
       "    </tr>\n",
       "    <tr>\n",
       "      <th>12</th>\n",
       "      <td>Proper Taste: João All Night Long</td>\n",
       "      <td>[Midcity Cafe]</td>\n",
       "      <td>850 W Peachtree St NW, Atlanta, Georgia 30308</td>\n",
       "      <td>6 Sep 2019</td>\n",
       "      <td>3</td>\n",
       "    </tr>\n",
       "    <tr>\n",
       "      <th>13</th>\n",
       "      <td>The APX - Live in Atlanta - Music Room</td>\n",
       "      <td>[The Music Room]</td>\n",
       "      <td>327 Edgewood Avenue, Atlanta, GA 30312, USA</td>\n",
       "      <td>6 Sep 2019</td>\n",
       "      <td>1</td>\n",
       "    </tr>\n",
       "    <tr>\n",
       "      <th>14</th>\n",
       "      <td>Umek</td>\n",
       "      <td>[Ravine]</td>\n",
       "      <td>1021 Peachtree St NE, Atlanta, GA 30309</td>\n",
       "      <td>7 Sep 2019</td>\n",
       "      <td>9</td>\n",
       "    </tr>\n",
       "    <tr>\n",
       "      <th>15</th>\n",
       "      <td>Channel Tres</td>\n",
       "      <td>[Aisle 5]</td>\n",
       "      <td>1123 Euclid Ave NE, Atlanta, GA 30307, United...</td>\n",
       "      <td>7 Sep 2019</td>\n",
       "      <td>2</td>\n",
       "    </tr>\n",
       "    <tr>\n",
       "      <th>16</th>\n",
       "      <td>Transparency Viii: Tito Mazzetta, Komron, Paol...</td>\n",
       "      <td>[The Sound Table]</td>\n",
       "      <td>483 Edgewood Avenue SE; Atlanta, GA 30312; Un...</td>\n",
       "      <td>7 Sep 2019</td>\n",
       "      <td>2</td>\n",
       "    </tr>\n",
       "    <tr>\n",
       "      <th>17</th>\n",
       "      <td>November Rose presents: Culture Exchange</td>\n",
       "      <td>W Atlanta Buckhead</td>\n",
       "      <td>3377 Peachtree Rd NE, Atlanta, GA 30326</td>\n",
       "      <td>8 Sep 2019</td>\n",
       "      <td>1</td>\n",
       "    </tr>\n",
       "    <tr>\n",
       "      <th>18</th>\n",
       "      <td>Flying Lotus</td>\n",
       "      <td>[Variety Playhouse]</td>\n",
       "      <td>Atlanta</td>\n",
       "      <td>11 Sep 2019</td>\n",
       "      <td>5</td>\n",
       "    </tr>\n",
       "    <tr>\n",
       "      <th>19</th>\n",
       "      <td>CamelPhat: Road To EDC:</td>\n",
       "      <td>[Ravine]</td>\n",
       "      <td>1021 Peachtree St NE, Atlanta, GA 30309</td>\n",
       "      <td>13 Sep 2019</td>\n",
       "      <td>0</td>\n",
       "    </tr>\n",
       "    <tr>\n",
       "      <th>20</th>\n",
       "      <td>Zemya Fest 2019</td>\n",
       "      <td>TBA Atlanta</td>\n",
       "      <td>000 TBA ATL</td>\n",
       "      <td>14 Sep 2019</td>\n",
       "      <td>62</td>\n",
       "    </tr>\n",
       "    <tr>\n",
       "      <th>21</th>\n",
       "      <td>Inception by Insanus presents</td>\n",
       "      <td>TBA - Atlanta</td>\n",
       "      <td>To Be Announced</td>\n",
       "      <td>14 Sep 2019</td>\n",
       "      <td>15</td>\n",
       "    </tr>\n",
       "    <tr>\n",
       "      <th>22</th>\n",
       "      <td>Tito Mazzetta</td>\n",
       "      <td>[Midcity Cafe]</td>\n",
       "      <td>850 W Peachtree St NW, Atlanta, Georgia 30308</td>\n",
       "      <td>14 Sep 2019</td>\n",
       "      <td>1</td>\n",
       "    </tr>\n",
       "    <tr>\n",
       "      <th>23</th>\n",
       "      <td>Zemya Fest 2019</td>\n",
       "      <td>TBA Atlanta</td>\n",
       "      <td>000 TBA ATL</td>\n",
       "      <td>14 Sep 2019</td>\n",
       "      <td>62</td>\n",
       "    </tr>\n",
       "    <tr>\n",
       "      <th>24</th>\n",
       "      <td>Swank</td>\n",
       "      <td>[Henry's Midtown Tavern]</td>\n",
       "      <td>132 10th St NE, Atlanta, GA 30309, USA</td>\n",
       "      <td>15 Sep 2019</td>\n",
       "      <td>1</td>\n",
       "    </tr>\n",
       "    <tr>\n",
       "      <th>25</th>\n",
       "      <td>Imagine Music Festival</td>\n",
       "      <td>Atlanta Motor Speedway</td>\n",
       "      <td>1500 Tara Pl, Hampton, Georgia 30228</td>\n",
       "      <td>20 Sep 2019</td>\n",
       "      <td>5</td>\n",
       "    </tr>\n",
       "    <tr>\n",
       "      <th>26</th>\n",
       "      <td>Proper Taste: João &amp; Elio Stereo All Night Long</td>\n",
       "      <td>[The Sound Table]</td>\n",
       "      <td>483 Edgewood Avenue SE; Atlanta, GA 30312; Un...</td>\n",
       "      <td>20 Sep 2019</td>\n",
       "      <td>4</td>\n",
       "    </tr>\n",
       "    <tr>\n",
       "      <th>27</th>\n",
       "      <td>Kudzu x Underground &amp; Black presents Kyle Hall</td>\n",
       "      <td>[The Bakery Atlanta]</td>\n",
       "      <td>825 Warner St SW, Atlanta, GA 30310, USA</td>\n",
       "      <td>20 Sep 2019</td>\n",
       "      <td>3</td>\n",
       "    </tr>\n",
       "    <tr>\n",
       "      <th>28</th>\n",
       "      <td>Club Soda: Ashley Beedle</td>\n",
       "      <td>[The Music Room]</td>\n",
       "      <td>327 Edgewood Avenue, Atlanta, GA 30312, USA</td>\n",
       "      <td>20 Sep 2019</td>\n",
       "      <td>2</td>\n",
       "    </tr>\n",
       "    <tr>\n",
       "      <th>29</th>\n",
       "      <td>Project B. Sunset Rooftop Party</td>\n",
       "      <td>[The Rooftop]</td>\n",
       "      <td>421 Edgewood Ave. Atlanta GA 30312 USA</td>\n",
       "      <td>21 Sep 2019</td>\n",
       "      <td>10</td>\n",
       "    </tr>\n",
       "    <tr>\n",
       "      <th>30</th>\n",
       "      <td>Tambor Party ATL [Sept 21]</td>\n",
       "      <td>[Crazy Atlanta]</td>\n",
       "      <td>182 Courtland St NE Atlanta, GA 30303 United ...</td>\n",
       "      <td>21 Sep 2019</td>\n",
       "      <td>2</td>\n",
       "    </tr>\n",
       "    <tr>\n",
       "      <th>31</th>\n",
       "      <td>Danny Tenaglia</td>\n",
       "      <td>[Ravine]</td>\n",
       "      <td>1021 Peachtree St NE, Atlanta, GA 30309</td>\n",
       "      <td>21 Sep 2019</td>\n",
       "      <td>6</td>\n",
       "    </tr>\n",
       "    <tr>\n",
       "      <th>32</th>\n",
       "      <td>TBC</td>\n",
       "      <td>TBA - Atlanta</td>\n",
       "      <td>To Be Announced</td>\n",
       "      <td>21 Sep 2019</td>\n",
       "      <td>5</td>\n",
       "    </tr>\n",
       "    <tr>\n",
       "      <th>33</th>\n",
       "      <td>Imagine Music Festival</td>\n",
       "      <td>Atlanta Motor Speedway</td>\n",
       "      <td>1500 Tara Pl, Hampton, Georgia 30228</td>\n",
       "      <td>20 Sep 2019</td>\n",
       "      <td>5</td>\n",
       "    </tr>\n",
       "    <tr>\n",
       "      <th>34</th>\n",
       "      <td>Records with Friends</td>\n",
       "      <td>[Georgia Beer Garden]</td>\n",
       "      <td>420 Edgewood Ave SE, Atlanta, GA 30312, USA</td>\n",
       "      <td>21 Sep 2019</td>\n",
       "      <td>1</td>\n",
       "    </tr>\n",
       "    <tr>\n",
       "      <th>35</th>\n",
       "      <td>Imagine Music Festival</td>\n",
       "      <td>Atlanta Motor Speedway</td>\n",
       "      <td>1500 Tara Pl, Hampton, Georgia 30228</td>\n",
       "      <td>20 Sep 2019</td>\n",
       "      <td>5</td>\n",
       "    </tr>\n",
       "  </tbody>\n",
       "</table>\n",
       "</div>"
      ],
      "text/plain": [
       "                                           Event_Name  \\\n",
       "0             Bonobo (DJ Set) & Matthew Dear (DJ Set)   \n",
       "1                  The Field, Anticipation, Soft Talk   \n",
       "2       Official [Rooftop] Pre-Party: Zemya Fest 2019   \n",
       "3                                         Felix Jaehn   \n",
       "4                              A Night with Ron Trent   \n",
       "5                   Distinctive Welcomes Brett Dancer   \n",
       "6                      Laura Indorf and Corey Jackson   \n",
       "7   People of Earth 4 Year Anniversary feat. Alton...   \n",
       "8                                     The Summit 2019   \n",
       "9                    Crazy Con: Dragon Con Afterparty   \n",
       "10             Expressions: The ATL Weekender Edition   \n",
       "11        House In The Park 15 “Official” After Party   \n",
       "12                  Proper Taste: João All Night Long   \n",
       "13             The APX - Live in Atlanta - Music Room   \n",
       "14                                               Umek   \n",
       "15                                       Channel Tres   \n",
       "16  Transparency Viii: Tito Mazzetta, Komron, Paol...   \n",
       "17           November Rose presents: Culture Exchange   \n",
       "18                                       Flying Lotus   \n",
       "19                            CamelPhat: Road To EDC:   \n",
       "20                                    Zemya Fest 2019   \n",
       "21                      Inception by Insanus presents   \n",
       "22                                      Tito Mazzetta   \n",
       "23                                    Zemya Fest 2019   \n",
       "24                                              Swank   \n",
       "25                             Imagine Music Festival   \n",
       "26    Proper Taste: João & Elio Stereo All Night Long   \n",
       "27     Kudzu x Underground & Black presents Kyle Hall   \n",
       "28                           Club Soda: Ashley Beedle   \n",
       "29                    Project B. Sunset Rooftop Party   \n",
       "30                         Tambor Party ATL [Sept 21]   \n",
       "31                                     Danny Tenaglia   \n",
       "32                                                TBC   \n",
       "33                             Imagine Music Festival   \n",
       "34                               Records with Friends   \n",
       "35                             Imagine Music Festival   \n",
       "\n",
       "                       Venue  \\\n",
       "0                   [Ravine]   \n",
       "1          [Drunken Unicorn]   \n",
       "2              [The Rooftop]   \n",
       "3                   [Ravine]   \n",
       "4            [Crazy Atlanta]   \n",
       "5          [The Sound Table]   \n",
       "6             [Midcity Cafe]   \n",
       "7               Pal's Lounge   \n",
       "8           [Murmur Gallery]   \n",
       "9            [Crazy Atlanta]   \n",
       "10         [The Sound Table]   \n",
       "11            [The Basement]   \n",
       "12            [Midcity Cafe]   \n",
       "13          [The Music Room]   \n",
       "14                  [Ravine]   \n",
       "15                 [Aisle 5]   \n",
       "16         [The Sound Table]   \n",
       "17        W Atlanta Buckhead   \n",
       "18       [Variety Playhouse]   \n",
       "19                  [Ravine]   \n",
       "20               TBA Atlanta   \n",
       "21             TBA - Atlanta   \n",
       "22            [Midcity Cafe]   \n",
       "23               TBA Atlanta   \n",
       "24  [Henry's Midtown Tavern]   \n",
       "25    Atlanta Motor Speedway   \n",
       "26         [The Sound Table]   \n",
       "27      [The Bakery Atlanta]   \n",
       "28          [The Music Room]   \n",
       "29             [The Rooftop]   \n",
       "30           [Crazy Atlanta]   \n",
       "31                  [Ravine]   \n",
       "32             TBA - Atlanta   \n",
       "33    Atlanta Motor Speedway   \n",
       "34     [Georgia Beer Garden]   \n",
       "35    Atlanta Motor Speedway   \n",
       "\n",
       "                                            Addresses    Event_Date  \\\n",
       "0             1021 Peachtree St NE, Atlanta, GA 30309   23 Aug 2019   \n",
       "1    736 Ponce De Leon, Place Northeast; Atlanta, ...   23 Aug 2019   \n",
       "2              421 Edgewood Ave. Atlanta GA 30312 USA   24 Aug 2019   \n",
       "3             1021 Peachtree St NE, Atlanta, GA 30309   24 Aug 2019   \n",
       "4    182 Courtland St NE Atlanta, GA 30303 United ...   30 Aug 2019   \n",
       "5    483 Edgewood Avenue SE; Atlanta, GA 30312; Un...   30 Aug 2019   \n",
       "6       850 W Peachtree St NW, Atlanta, Georgia 30308   30 Aug 2019   \n",
       "7                254 Auburn Ave NE, Atlanta, GA 30303   31 Aug 2019   \n",
       "8                                     100 Broad St SW   31 Aug 2019   \n",
       "9    182 Courtland St NE Atlanta, GA 30303 United ...   31 Aug 2019   \n",
       "10   483 Edgewood Avenue SE; Atlanta, GA 30312; Un...   31 Aug 2019   \n",
       "11          1245 Glenwood Ave, Atlanta, GA 30316, USA    1 Sep 2019   \n",
       "12      850 W Peachtree St NW, Atlanta, Georgia 30308    6 Sep 2019   \n",
       "13        327 Edgewood Avenue, Atlanta, GA 30312, USA    6 Sep 2019   \n",
       "14            1021 Peachtree St NE, Atlanta, GA 30309    7 Sep 2019   \n",
       "15   1123 Euclid Ave NE, Atlanta, GA 30307, United...    7 Sep 2019   \n",
       "16   483 Edgewood Avenue SE; Atlanta, GA 30312; Un...    7 Sep 2019   \n",
       "17            3377 Peachtree Rd NE, Atlanta, GA 30326    8 Sep 2019   \n",
       "18                                            Atlanta   11 Sep 2019   \n",
       "19            1021 Peachtree St NE, Atlanta, GA 30309   13 Sep 2019   \n",
       "20                                        000 TBA ATL  14 Sep 2019    \n",
       "21                                    To Be Announced   14 Sep 2019   \n",
       "22      850 W Peachtree St NW, Atlanta, Georgia 30308   14 Sep 2019   \n",
       "23                                        000 TBA ATL  14 Sep 2019    \n",
       "24             132 10th St NE, Atlanta, GA 30309, USA   15 Sep 2019   \n",
       "25               1500 Tara Pl, Hampton, Georgia 30228  20 Sep 2019    \n",
       "26   483 Edgewood Avenue SE; Atlanta, GA 30312; Un...   20 Sep 2019   \n",
       "27           825 Warner St SW, Atlanta, GA 30310, USA   20 Sep 2019   \n",
       "28        327 Edgewood Avenue, Atlanta, GA 30312, USA   20 Sep 2019   \n",
       "29             421 Edgewood Ave. Atlanta GA 30312 USA   21 Sep 2019   \n",
       "30   182 Courtland St NE Atlanta, GA 30303 United ...   21 Sep 2019   \n",
       "31            1021 Peachtree St NE, Atlanta, GA 30309   21 Sep 2019   \n",
       "32                                    To Be Announced   21 Sep 2019   \n",
       "33               1500 Tara Pl, Hampton, Georgia 30228  20 Sep 2019    \n",
       "34        420 Edgewood Ave SE, Atlanta, GA 30312, USA   21 Sep 2019   \n",
       "35               1500 Tara Pl, Hampton, Georgia 30228  20 Sep 2019    \n",
       "\n",
       "   Number_of_Attendees  \n",
       "0                    9  \n",
       "1                    2  \n",
       "2                   48  \n",
       "3                    0  \n",
       "4                    8  \n",
       "5                    2  \n",
       "6                    0  \n",
       "7                   18  \n",
       "8                    7  \n",
       "9                    4  \n",
       "10                   4  \n",
       "11                   3  \n",
       "12                   3  \n",
       "13                   1  \n",
       "14                   9  \n",
       "15                   2  \n",
       "16                   2  \n",
       "17                   1  \n",
       "18                   5  \n",
       "19                   0  \n",
       "20                  62  \n",
       "21                  15  \n",
       "22                   1  \n",
       "23                  62  \n",
       "24                   1  \n",
       "25                   5  \n",
       "26                   4  \n",
       "27                   3  \n",
       "28                   2  \n",
       "29                  10  \n",
       "30                   2  \n",
       "31                   6  \n",
       "32                   5  \n",
       "33                   5  \n",
       "34                   1  \n",
       "35                   5  "
      ]
     },
     "execution_count": 199,
     "metadata": {},
     "output_type": "execute_result"
    }
   ],
   "source": [
    "#checking scrape_events functiuon\n",
    "event_page = 'https://www.residentadvisor.net/events/us/georgia/month/2019-08-23'\n",
    "scrape_events(event_page)"
   ]
  },
  {
   "cell_type": "markdown",
   "metadata": {},
   "source": [
    "## Write a Function to Retrieve the URL for the Next Page"
   ]
  },
  {
   "cell_type": "code",
   "execution_count": 229,
   "metadata": {
    "ExecuteTime": {
     "end_time": "2020-07-23T18:52:53.748545Z",
     "start_time": "2020-07-23T18:52:48.226873Z"
    }
   },
   "outputs": [],
   "source": [
    "main = 'https://www.residentadvisor.net/events/us/georgia/month/2019-09-23'\n",
    "main_page = requests.get(main)\n",
    "main_soup = BeautifulSoup(main_page.content, 'html.parser')\n",
    "next_button = main_soup.find('li', {'id': 'liNext2'})\n"
   ]
  },
  {
   "cell_type": "code",
   "execution_count": 230,
   "metadata": {
    "ExecuteTime": {
     "end_time": "2020-07-23T18:52:53.942633Z",
     "start_time": "2020-07-23T18:52:53.938141Z"
    }
   },
   "outputs": [
    {
     "data": {
      "text/plain": [
       "'/events/us/georgia/month/2019-10-23'"
      ]
     },
     "execution_count": 230,
     "metadata": {},
     "output_type": "execute_result"
    }
   ],
   "source": [
    "next_button.find('a').attrs['href']"
   ]
  },
  {
   "cell_type": "code",
   "execution_count": 235,
   "metadata": {
    "ExecuteTime": {
     "end_time": "2020-07-23T18:53:59.049223Z",
     "start_time": "2020-07-23T18:53:59.044706Z"
    }
   },
   "outputs": [],
   "source": [
    "def next_page(url):\n",
    "    main = 'https://www.residentadvisor.net'\n",
    "    current = requests.get(url)\n",
    "    current_soup = BeautifulSoup(current.content, 'html.parser')\n",
    "    next_button = current_soup.find('li', {'id': 'liNext2'})\n",
    "    return main + next_button.find('a').attrs['href']"
   ]
  },
  {
   "cell_type": "code",
   "execution_count": 245,
   "metadata": {
    "ExecuteTime": {
     "end_time": "2020-07-23T19:04:11.414138Z",
     "start_time": "2020-07-23T19:04:10.601530Z"
    }
   },
   "outputs": [
    {
     "data": {
      "text/plain": [
       "'https://www.residentadvisor.net/events/us/georgia/month/2019-11-23'"
      ]
     },
     "execution_count": 245,
     "metadata": {},
     "output_type": "execute_result"
    }
   ],
   "source": [
    "#testing\n",
    "next_page('https://www.residentadvisor.net/events/us/georgia/month/2019-10-23')"
   ]
  },
  {
   "cell_type": "markdown",
   "metadata": {},
   "source": [
    "## Scrape the Next 1000 Events for Your Area\n",
    "\n",
    "Display the data sorted by the number of attendees. If there is a tie for the number attending, sort by event date."
   ]
  },
  {
   "cell_type": "code",
   "execution_count": 239,
   "metadata": {
    "ExecuteTime": {
     "end_time": "2020-07-23T18:55:38.792793Z",
     "start_time": "2020-07-23T18:55:38.789582Z"
    }
   },
   "outputs": [],
   "source": [
    "import time"
   ]
  },
  {
   "cell_type": "code",
   "execution_count": 253,
   "metadata": {
    "ExecuteTime": {
     "end_time": "2020-07-23T19:31:30.665100Z",
     "start_time": "2020-07-23T19:15:21.702846Z"
    }
   },
   "outputs": [
    {
     "name": "stdout",
     "output_type": "stream",
     "text": [
      "Scraping:  https://www.residentadvisor.net/events/us/georgia/month/2017-08-23\n",
      "Scraping:  https://www.residentadvisor.net/events/us/georgia/month/2017-09-23\n",
      "Scraping:  https://www.residentadvisor.net/events/us/georgia/month/2017-10-23\n",
      "Scraping:  https://www.residentadvisor.net/events/us/georgia/month/2017-11-23\n",
      "Scraping:  https://www.residentadvisor.net/events/us/georgia/month/2017-12-23\n",
      "Scraping:  https://www.residentadvisor.net/events/us/georgia/month/2018-01-23\n",
      "Scraping:  https://www.residentadvisor.net/events/us/georgia/month/2018-02-23\n",
      "Scraping:  https://www.residentadvisor.net/events/us/georgia/month/2018-03-23\n",
      "Scraping:  https://www.residentadvisor.net/events/us/georgia/month/2018-04-23\n",
      "Scraping:  https://www.residentadvisor.net/events/us/georgia/month/2018-05-23\n",
      "Scraping:  https://www.residentadvisor.net/events/us/georgia/month/2018-06-23\n",
      "Scraping:  https://www.residentadvisor.net/events/us/georgia/month/2018-07-23\n",
      "Scraping:  https://www.residentadvisor.net/events/us/georgia/month/2018-08-23\n",
      "Scraping:  https://www.residentadvisor.net/events/us/georgia/month/2018-09-23\n",
      "Scraping:  https://www.residentadvisor.net/events/us/georgia/month/2018-10-23\n",
      "Scraping:  https://www.residentadvisor.net/events/us/georgia/month/2018-11-23\n",
      "Scraping:  https://www.residentadvisor.net/events/us/georgia/month/2018-12-23\n",
      "Scraping:  https://www.residentadvisor.net/events/us/georgia/month/2019-01-23\n",
      "Scraping:  https://www.residentadvisor.net/events/us/georgia/month/2019-02-23\n",
      "Scraping:  https://www.residentadvisor.net/events/us/georgia/month/2019-03-23\n",
      "Scraping:  https://www.residentadvisor.net/events/us/georgia/month/2019-04-23\n",
      "Scraping:  https://www.residentadvisor.net/events/us/georgia/month/2019-05-23\n",
      "Scraping:  https://www.residentadvisor.net/events/us/georgia/month/2019-06-23\n",
      "Scraping:  https://www.residentadvisor.net/events/us/georgia/month/2019-07-23\n",
      "Scraping:  https://www.residentadvisor.net/events/us/georgia/month/2019-08-23\n",
      "Scraping:  https://www.residentadvisor.net/events/us/georgia/month/2019-09-23\n",
      "Scraping:  https://www.residentadvisor.net/events/us/georgia/month/2019-10-23\n",
      "Scraping:  https://www.residentadvisor.net/events/us/georgia/month/2019-11-23\n",
      "Scraping:  https://www.residentadvisor.net/events/us/georgia/month/2019-12-23\n",
      "Scraping:  https://www.residentadvisor.net/events/us/georgia/month/2020-01-23\n",
      "Scraping:  https://www.residentadvisor.net/events/us/georgia/month/2020-02-23\n",
      "Scraping:  https://www.residentadvisor.net/events/us/georgia/month/2020-03-23\n",
      "Scraping:  https://www.residentadvisor.net/events/us/georgia/month/2020-04-23\n",
      "Scraping:  https://www.residentadvisor.net/events/us/georgia/month/2020-05-23\n",
      "Scraping:  https://www.residentadvisor.net/events/us/georgia/month/2020-06-23\n",
      "Scraping:  https://www.residentadvisor.net/events/us/georgia/month/2020-07-23\n"
     ]
    },
    {
     "ename": "KeyError",
     "evalue": "'href'",
     "output_type": "error",
     "traceback": [
      "\u001b[0;31m---------------------------------------------------------------------------\u001b[0m",
      "\u001b[0;31mKeyError\u001b[0m                                  Traceback (most recent call last)",
      "\u001b[0;32m<ipython-input-253-8bd05a00c051>\u001b[0m in \u001b[0;36m<module>\u001b[0;34m\u001b[0m\n\u001b[1;32m      9\u001b[0m     \u001b[0mnrows\u001b[0m \u001b[0;34m+=\u001b[0m \u001b[0mlen\u001b[0m\u001b[0;34m(\u001b[0m\u001b[0mdf\u001b[0m\u001b[0;34m)\u001b[0m\u001b[0;34m\u001b[0m\u001b[0;34m\u001b[0m\u001b[0m\n\u001b[1;32m     10\u001b[0m     \u001b[0mdfs\u001b[0m\u001b[0;34m.\u001b[0m\u001b[0mappend\u001b[0m\u001b[0;34m(\u001b[0m\u001b[0mdf\u001b[0m\u001b[0;34m)\u001b[0m\u001b[0;34m\u001b[0m\u001b[0;34m\u001b[0m\u001b[0m\n\u001b[0;32m---> 11\u001b[0;31m     \u001b[0mcur_url\u001b[0m \u001b[0;34m=\u001b[0m \u001b[0mnext_page\u001b[0m\u001b[0;34m(\u001b[0m\u001b[0mcur_url\u001b[0m\u001b[0;34m)\u001b[0m\u001b[0;34m\u001b[0m\u001b[0;34m\u001b[0m\u001b[0m\n\u001b[0m\u001b[1;32m     12\u001b[0m     \u001b[0mtime\u001b[0m\u001b[0;34m.\u001b[0m\u001b[0msleep\u001b[0m\u001b[0;34m(\u001b[0m\u001b[0;36m0.2\u001b[0m\u001b[0;34m)\u001b[0m\u001b[0;34m\u001b[0m\u001b[0;34m\u001b[0m\u001b[0m\n\u001b[1;32m     13\u001b[0m \u001b[0mdf\u001b[0m \u001b[0;34m=\u001b[0m \u001b[0mpd\u001b[0m\u001b[0;34m.\u001b[0m\u001b[0mconcat\u001b[0m\u001b[0;34m(\u001b[0m\u001b[0mdfs\u001b[0m\u001b[0;34m)\u001b[0m\u001b[0;34m\u001b[0m\u001b[0;34m\u001b[0m\u001b[0m\n",
      "\u001b[0;32m<ipython-input-235-b79c3b0841dc>\u001b[0m in \u001b[0;36mnext_page\u001b[0;34m(url)\u001b[0m\n\u001b[1;32m      4\u001b[0m     \u001b[0mcurrent_soup\u001b[0m \u001b[0;34m=\u001b[0m \u001b[0mBeautifulSoup\u001b[0m\u001b[0;34m(\u001b[0m\u001b[0mcurrent\u001b[0m\u001b[0;34m.\u001b[0m\u001b[0mcontent\u001b[0m\u001b[0;34m,\u001b[0m \u001b[0;34m'html.parser'\u001b[0m\u001b[0;34m)\u001b[0m\u001b[0;34m\u001b[0m\u001b[0;34m\u001b[0m\u001b[0m\n\u001b[1;32m      5\u001b[0m     \u001b[0mnext_button\u001b[0m \u001b[0;34m=\u001b[0m \u001b[0mcurrent_soup\u001b[0m\u001b[0;34m.\u001b[0m\u001b[0mfind\u001b[0m\u001b[0;34m(\u001b[0m\u001b[0;34m'li'\u001b[0m\u001b[0;34m,\u001b[0m \u001b[0;34m{\u001b[0m\u001b[0;34m'id'\u001b[0m\u001b[0;34m:\u001b[0m \u001b[0;34m'liNext2'\u001b[0m\u001b[0;34m}\u001b[0m\u001b[0;34m)\u001b[0m\u001b[0;34m\u001b[0m\u001b[0;34m\u001b[0m\u001b[0m\n\u001b[0;32m----> 6\u001b[0;31m     \u001b[0;32mreturn\u001b[0m \u001b[0mmain\u001b[0m \u001b[0;34m+\u001b[0m \u001b[0mnext_button\u001b[0m\u001b[0;34m.\u001b[0m\u001b[0mfind\u001b[0m\u001b[0;34m(\u001b[0m\u001b[0;34m'a'\u001b[0m\u001b[0;34m)\u001b[0m\u001b[0;34m.\u001b[0m\u001b[0mattrs\u001b[0m\u001b[0;34m[\u001b[0m\u001b[0;34m'href'\u001b[0m\u001b[0;34m]\u001b[0m\u001b[0;34m\u001b[0m\u001b[0;34m\u001b[0m\u001b[0m\n\u001b[0m",
      "\u001b[0;31mKeyError\u001b[0m: 'href'"
     ]
    }
   ],
   "source": [
    "#Your code here\n",
    "dfs = []\n",
    "nrows = 0\n",
    "cur_url = 'https://www.residentadvisor.net/events/us/georgia/month/2017-08-23'\n",
    "a = 0\n",
    "while nrows < 1000:\n",
    "    print('Scraping: ', cur_url)\n",
    "    df = scrape_events(cur_url)\n",
    "    nrows += len(df)\n",
    "    dfs.append(df)\n",
    "    cur_url = next_page(cur_url)\n",
    "    time.sleep(0.2)\n",
    "df = pd.concat(dfs)\n",
    "df.head()"
   ]
  },
  {
   "cell_type": "code",
   "execution_count": 254,
   "metadata": {
    "ExecuteTime": {
     "end_time": "2020-07-23T19:32:16.805697Z",
     "start_time": "2020-07-23T19:32:16.763092Z"
    }
   },
   "outputs": [
    {
     "data": {
      "text/html": [
       "<div>\n",
       "<style scoped>\n",
       "    .dataframe tbody tr th:only-of-type {\n",
       "        vertical-align: middle;\n",
       "    }\n",
       "\n",
       "    .dataframe tbody tr th {\n",
       "        vertical-align: top;\n",
       "    }\n",
       "\n",
       "    .dataframe thead th {\n",
       "        text-align: right;\n",
       "    }\n",
       "</style>\n",
       "<table border=\"1\" class=\"dataframe\">\n",
       "  <thead>\n",
       "    <tr style=\"text-align: right;\">\n",
       "      <th></th>\n",
       "      <th>Event_Name</th>\n",
       "      <th>Venue</th>\n",
       "      <th>Addresses</th>\n",
       "      <th>Event_Date</th>\n",
       "      <th>Number_of_Attendees</th>\n",
       "    </tr>\n",
       "  </thead>\n",
       "  <tbody>\n",
       "    <tr>\n",
       "      <th>0</th>\n",
       "      <td>Tocayo (Open to Close)</td>\n",
       "      <td>[The Alley Cat Music Club]</td>\n",
       "      <td>182 Courtland St NE Atlanta,GA 30312</td>\n",
       "      <td>25 Aug 2017</td>\n",
       "      <td>3</td>\n",
       "    </tr>\n",
       "    <tr>\n",
       "      <th>1</th>\n",
       "      <td>Red Bull Culture Clash Atlanta 2017</td>\n",
       "      <td>[787 Windsor]</td>\n",
       "      <td>787 Windsor St SW, Atlanta, GA 30315, USA</td>\n",
       "      <td>25 Aug 2017</td>\n",
       "      <td>1</td>\n",
       "    </tr>\n",
       "    <tr>\n",
       "      <th>2</th>\n",
       "      <td>Official Pre - Party: Zemya Fest 2017 [Open Air]</td>\n",
       "      <td>TBA - Atlanta</td>\n",
       "      <td>To Be Announced</td>\n",
       "      <td>26 Aug 2017</td>\n",
       "      <td>77</td>\n",
       "    </tr>\n",
       "    <tr>\n",
       "      <th>3</th>\n",
       "      <td>Shabazz Palaces, Porter Ray, The Morkestra</td>\n",
       "      <td>[Terminal West]</td>\n",
       "      <td>887 West Marietta St NW, Atlanta, GA 30318, U...</td>\n",
       "      <td>26 Aug 2017</td>\n",
       "      <td>1</td>\n",
       "    </tr>\n",
       "    <tr>\n",
       "      <th>4</th>\n",
       "      <td>The Atlanta Weekender 2017</td>\n",
       "      <td>[The Sound Table]</td>\n",
       "      <td>483 Edgewood Avenue SE; Atlanta, GA 30312; Un...</td>\n",
       "      <td>31 Aug 2017</td>\n",
       "      <td>6</td>\n",
       "    </tr>\n",
       "  </tbody>\n",
       "</table>\n",
       "</div>"
      ],
      "text/plain": [
       "                                         Event_Name  \\\n",
       "0                            Tocayo (Open to Close)   \n",
       "1               Red Bull Culture Clash Atlanta 2017   \n",
       "2  Official Pre - Party: Zemya Fest 2017 [Open Air]   \n",
       "3        Shabazz Palaces, Porter Ray, The Morkestra   \n",
       "4                        The Atlanta Weekender 2017   \n",
       "\n",
       "                        Venue  \\\n",
       "0  [The Alley Cat Music Club]   \n",
       "1               [787 Windsor]   \n",
       "2               TBA - Atlanta   \n",
       "3             [Terminal West]   \n",
       "4           [The Sound Table]   \n",
       "\n",
       "                                           Addresses    Event_Date  \\\n",
       "0               182 Courtland St NE Atlanta,GA 30312   25 Aug 2017   \n",
       "1          787 Windsor St SW, Atlanta, GA 30315, USA   25 Aug 2017   \n",
       "2                                    To Be Announced   26 Aug 2017   \n",
       "3   887 West Marietta St NW, Atlanta, GA 30318, U...   26 Aug 2017   \n",
       "4   483 Edgewood Avenue SE; Atlanta, GA 30312; Un...  31 Aug 2017    \n",
       "\n",
       "  Number_of_Attendees  \n",
       "0                   3  \n",
       "1                   1  \n",
       "2                  77  \n",
       "3                   1  \n",
       "4                   6  "
      ]
     },
     "execution_count": 254,
     "metadata": {},
     "output_type": "execute_result"
    }
   ],
   "source": [
    "df = pd.concat(dfs)\n",
    "df.head()"
   ]
  },
  {
   "cell_type": "code",
   "execution_count": 255,
   "metadata": {
    "ExecuteTime": {
     "end_time": "2020-07-23T19:32:53.127466Z",
     "start_time": "2020-07-23T19:32:53.099212Z"
    }
   },
   "outputs": [
    {
     "data": {
      "text/html": [
       "<div>\n",
       "<style scoped>\n",
       "    .dataframe tbody tr th:only-of-type {\n",
       "        vertical-align: middle;\n",
       "    }\n",
       "\n",
       "    .dataframe tbody tr th {\n",
       "        vertical-align: top;\n",
       "    }\n",
       "\n",
       "    .dataframe thead th {\n",
       "        text-align: right;\n",
       "    }\n",
       "</style>\n",
       "<table border=\"1\" class=\"dataframe\">\n",
       "  <thead>\n",
       "    <tr style=\"text-align: right;\">\n",
       "      <th></th>\n",
       "      <th>Event_Name</th>\n",
       "      <th>Venue</th>\n",
       "      <th>Addresses</th>\n",
       "      <th>Event_Date</th>\n",
       "      <th>Number_of_Attendees</th>\n",
       "    </tr>\n",
       "  </thead>\n",
       "  <tbody>\n",
       "    <tr>\n",
       "      <th>18</th>\n",
       "      <td>Zemya Fest 2017</td>\n",
       "      <td>TBA - Atlanta</td>\n",
       "      <td>To Be Announced</td>\n",
       "      <td>9 Sep 2017</td>\n",
       "      <td>132</td>\n",
       "    </tr>\n",
       "    <tr>\n",
       "      <th>22</th>\n",
       "      <td>Sunset: Friends &amp; Family [Invite Only]</td>\n",
       "      <td>TBA - Atlanta</td>\n",
       "      <td>To Be Announced</td>\n",
       "      <td>10 Mar 2018</td>\n",
       "      <td>79</td>\n",
       "    </tr>\n",
       "    <tr>\n",
       "      <th>16</th>\n",
       "      <td>Sunset: Friends &amp; Family [Invite Only]</td>\n",
       "      <td>TBA - Atlanta</td>\n",
       "      <td>To Be Announced</td>\n",
       "      <td>10 Mar 2018</td>\n",
       "      <td>79</td>\n",
       "    </tr>\n",
       "    <tr>\n",
       "      <th>2</th>\n",
       "      <td>Official Pre - Party: Zemya Fest 2017 [Open Air]</td>\n",
       "      <td>TBA - Atlanta</td>\n",
       "      <td>To Be Announced</td>\n",
       "      <td>26 Aug 2017</td>\n",
       "      <td>77</td>\n",
       "    </tr>\n",
       "    <tr>\n",
       "      <th>0</th>\n",
       "      <td>Sunset: Friends &amp; Family [Invite Only]</td>\n",
       "      <td>TBA - Atlanta</td>\n",
       "      <td>To Be Announced</td>\n",
       "      <td>23 Mar 2019</td>\n",
       "      <td>77</td>\n",
       "    </tr>\n",
       "    <tr>\n",
       "      <th>...</th>\n",
       "      <td>...</td>\n",
       "      <td>...</td>\n",
       "      <td>...</td>\n",
       "      <td>...</td>\n",
       "      <td>...</td>\n",
       "    </tr>\n",
       "    <tr>\n",
       "      <th>3</th>\n",
       "      <td>Space Jesus, Buku, Of the Trees, Huxley Anne</td>\n",
       "      <td>[Terminal West]</td>\n",
       "      <td>887 West Marietta St NW, Atlanta, GA 30318, U...</td>\n",
       "      <td>10 Jan 2018</td>\n",
       "      <td>0</td>\n",
       "    </tr>\n",
       "    <tr>\n",
       "      <th>1</th>\n",
       "      <td>Getter</td>\n",
       "      <td>[Ravine]</td>\n",
       "      <td>1021 Peachtree St NE, Atlanta, GA 30309</td>\n",
       "      <td>24 Jan 2020</td>\n",
       "      <td>0</td>\n",
       "    </tr>\n",
       "    <tr>\n",
       "      <th>0</th>\n",
       "      <td>NYE Warehouse Afterparty by Alley Cat Music</td>\n",
       "      <td>[Okami]</td>\n",
       "      <td>645 Shelton Ave SW Atlanta, Ga 30310</td>\n",
       "      <td>1 Jan 2018</td>\n",
       "      <td>0</td>\n",
       "    </tr>\n",
       "    <tr>\n",
       "      <th>11</th>\n",
       "      <td>Wish List at The Social Holiday</td>\n",
       "      <td>[Lava Lounge]</td>\n",
       "      <td>57 13th Street NE; Atlanta, GA 30361; United ...</td>\n",
       "      <td>16 Dec 2017</td>\n",
       "      <td>0</td>\n",
       "    </tr>\n",
       "    <tr>\n",
       "      <th>22</th>\n",
       "      <td>NiT Grit, Ethan Glass, Secret Recipe</td>\n",
       "      <td>[Aisle 5]</td>\n",
       "      <td>1123 Euclid Ave NE, Atlanta, GA 30307, United...</td>\n",
       "      <td>15 Jun 2018</td>\n",
       "      <td>0</td>\n",
       "    </tr>\n",
       "  </tbody>\n",
       "</table>\n",
       "<p>945 rows × 5 columns</p>\n",
       "</div>"
      ],
      "text/plain": [
       "                                          Event_Name            Venue  \\\n",
       "18                                   Zemya Fest 2017    TBA - Atlanta   \n",
       "22            Sunset: Friends & Family [Invite Only]    TBA - Atlanta   \n",
       "16            Sunset: Friends & Family [Invite Only]    TBA - Atlanta   \n",
       "2   Official Pre - Party: Zemya Fest 2017 [Open Air]    TBA - Atlanta   \n",
       "0             Sunset: Friends & Family [Invite Only]    TBA - Atlanta   \n",
       "..                                               ...              ...   \n",
       "3       Space Jesus, Buku, Of the Trees, Huxley Anne  [Terminal West]   \n",
       "1                                             Getter         [Ravine]   \n",
       "0        NYE Warehouse Afterparty by Alley Cat Music          [Okami]   \n",
       "11                   Wish List at The Social Holiday    [Lava Lounge]   \n",
       "22              NiT Grit, Ethan Glass, Secret Recipe        [Aisle 5]   \n",
       "\n",
       "                                            Addresses    Event_Date  \\\n",
       "18                                    To Be Announced    9 Sep 2017   \n",
       "22                                    To Be Announced  10 Mar 2018    \n",
       "16                                    To Be Announced  10 Mar 2018    \n",
       "2                                     To Be Announced   26 Aug 2017   \n",
       "0                                     To Be Announced   23 Mar 2019   \n",
       "..                                                ...           ...   \n",
       "3    887 West Marietta St NW, Atlanta, GA 30318, U...   10 Jan 2018   \n",
       "1             1021 Peachtree St NE, Atlanta, GA 30309   24 Jan 2020   \n",
       "0                645 Shelton Ave SW Atlanta, Ga 30310    1 Jan 2018   \n",
       "11   57 13th Street NE; Atlanta, GA 30361; United ...   16 Dec 2017   \n",
       "22   1123 Euclid Ave NE, Atlanta, GA 30307, United...  15 Jun 2018    \n",
       "\n",
       "   Number_of_Attendees  \n",
       "18                 132  \n",
       "22                  79  \n",
       "16                  79  \n",
       "2                   77  \n",
       "0                   77  \n",
       "..                 ...  \n",
       "3                    0  \n",
       "1                    0  \n",
       "0                    0  \n",
       "11                   0  \n",
       "22                   0  \n",
       "\n",
       "[945 rows x 5 columns]"
      ]
     },
     "execution_count": 255,
     "metadata": {},
     "output_type": "execute_result"
    }
   ],
   "source": [
    "df.sort_values(by='Number_of_Attendees', ascending=False)"
   ]
  },
  {
   "cell_type": "code",
   "execution_count": 252,
   "metadata": {
    "ExecuteTime": {
     "end_time": "2020-07-23T19:14:59.269081Z",
     "start_time": "2020-07-23T19:14:59.260671Z"
    }
   },
   "outputs": [
    {
     "data": {
      "text/plain": [
       "Common Circuits Festival                                      3\n",
       "Psycho Disco                                                  3\n",
       "Imagine Music Festival                                        3\n",
       "Laura Indorf and Corey Jackson                                3\n",
       "Swank                                                         3\n",
       "Space Jesus, Tsuruda, Tiedye Ky, Onhell                       2\n",
       "Fisher -Outdoor Block Party presented by Catch and Release    2\n",
       "Proper Taste: All Night Long                                  2\n",
       "Project B. Sunset Rooftop Party                               2\n",
       "Records with Friends                                          2\n",
       "Mersiv, Fryar, Kozmic, Andy Bruh                              2\n",
       "Stroke                                                        2\n",
       "Zemya Fest 2019                                               2\n",
       "Party Favor: Layers Envisioned                                1\n",
       "Goopsteppa, Supertask, Ill Chill, Dollarsine                  1\n",
       "Corona Electric Beach: Road To EDC Orlando feat. Dombresky    1\n",
       "Alley Cat with Mike Servito                                   1\n",
       "Zebbler Encanti Experience, Murkury, Octl_, Wan               1\n",
       "Cash Cash                                                     1\n",
       "Moody Good: Sunny Side Up Tour with Blvkjvck                  1\n",
       "Name: Event_Name, dtype: int64"
      ]
     },
     "execution_count": 252,
     "metadata": {},
     "output_type": "execute_result"
    }
   ],
   "source": [
    "df['Event_Name'].value_counts().head(20)"
   ]
  },
  {
   "cell_type": "code",
   "execution_count": 256,
   "metadata": {
    "ExecuteTime": {
     "end_time": "2020-07-23T19:34:25.528797Z",
     "start_time": "2020-07-23T19:34:25.429470Z"
    }
   },
   "outputs": [],
   "source": [
    "df.to_csv('scraped.csv')  "
   ]
  },
  {
   "cell_type": "markdown",
   "metadata": {},
   "source": [
    "## Summary \n",
    "\n",
    "Congratulations! In this lab, you successfully developed a pipeline to scrape a website for concert event information!"
   ]
  }
 ],
 "metadata": {
  "kernelspec": {
   "display_name": "Python [conda env:learn-env] *",
   "language": "python",
   "name": "conda-env-learn-env-py"
  },
  "language_info": {
   "codemirror_mode": {
    "name": "ipython",
    "version": 3
   },
   "file_extension": ".py",
   "mimetype": "text/x-python",
   "name": "python",
   "nbconvert_exporter": "python",
   "pygments_lexer": "ipython3",
   "version": "3.6.9"
  },
  "varInspector": {
   "cols": {
    "lenName": 16,
    "lenType": 16,
    "lenVar": 40
   },
   "kernels_config": {
    "python": {
     "delete_cmd_postfix": "",
     "delete_cmd_prefix": "del ",
     "library": "var_list.py",
     "varRefreshCmd": "print(var_dic_list())"
    },
    "r": {
     "delete_cmd_postfix": ") ",
     "delete_cmd_prefix": "rm(",
     "library": "var_list.r",
     "varRefreshCmd": "cat(var_dic_list()) "
    }
   },
   "types_to_exclude": [
    "module",
    "function",
    "builtin_function_or_method",
    "instance",
    "_Feature"
   ],
   "window_display": false
  }
 },
 "nbformat": 4,
 "nbformat_minor": 2
}
